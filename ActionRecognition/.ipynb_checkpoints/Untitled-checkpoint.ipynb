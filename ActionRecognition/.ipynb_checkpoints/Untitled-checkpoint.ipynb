{
 "cells": [
  {
   "cell_type": "code",
   "execution_count": 2,
   "id": "0bb726cf",
   "metadata": {},
   "outputs": [
    {
     "name": "stdout",
     "output_type": "stream",
     "text": [
      "Requirement already satisfied: tensorflow==2.5.3 in /Users/m1/opt/anaconda3/lib/python3.9/site-packages (2.5.3)\n",
      "Requirement already satisfied: opencv-python in /Users/m1/opt/anaconda3/lib/python3.9/site-packages (4.5.5.62)\n",
      "Requirement already satisfied: mediapipe in /Users/m1/opt/anaconda3/lib/python3.9/site-packages (0.8.9.1)\n",
      "Requirement already satisfied: sklearn in /Users/m1/opt/anaconda3/lib/python3.9/site-packages (0.0)\n",
      "Requirement already satisfied: matplotlib in /Users/m1/opt/anaconda3/lib/python3.9/site-packages (3.4.3)\n",
      "Requirement already satisfied: wheel~=0.35 in /Users/m1/opt/anaconda3/lib/python3.9/site-packages (from tensorflow==2.5.3) (0.37.0)\n",
      "Requirement already satisfied: keras-nightly~=2.5.0.dev in /Users/m1/opt/anaconda3/lib/python3.9/site-packages (from tensorflow==2.5.3) (2.5.0.dev2021032900)\n",
      "Requirement already satisfied: opt-einsum~=3.3.0 in /Users/m1/opt/anaconda3/lib/python3.9/site-packages (from tensorflow==2.5.3) (3.3.0)\n",
      "Requirement already satisfied: gast==0.4.0 in /Users/m1/opt/anaconda3/lib/python3.9/site-packages (from tensorflow==2.5.3) (0.4.0)\n",
      "Requirement already satisfied: keras-preprocessing~=1.1.2 in /Users/m1/opt/anaconda3/lib/python3.9/site-packages (from tensorflow==2.5.3) (1.1.2)\n",
      "Requirement already satisfied: tensorboard~=2.5 in /Users/m1/opt/anaconda3/lib/python3.9/site-packages (from tensorflow==2.5.3) (2.8.0)\n",
      "Requirement already satisfied: six~=1.15.0 in /Users/m1/opt/anaconda3/lib/python3.9/site-packages (from tensorflow==2.5.3) (1.15.0)\n",
      "Requirement already satisfied: termcolor~=1.1.0 in /Users/m1/opt/anaconda3/lib/python3.9/site-packages (from tensorflow==2.5.3) (1.1.0)\n",
      "Requirement already satisfied: tensorflow-estimator<2.6.0,>=2.5.0 in /Users/m1/opt/anaconda3/lib/python3.9/site-packages (from tensorflow==2.5.3) (2.5.0)\n",
      "Requirement already satisfied: h5py~=3.1.0 in /Users/m1/opt/anaconda3/lib/python3.9/site-packages (from tensorflow==2.5.3) (3.1.0)\n",
      "Requirement already satisfied: numpy~=1.19.2 in /Users/m1/opt/anaconda3/lib/python3.9/site-packages (from tensorflow==2.5.3) (1.19.5)\n",
      "Requirement already satisfied: flatbuffers~=1.12.0 in /Users/m1/opt/anaconda3/lib/python3.9/site-packages (from tensorflow==2.5.3) (1.12)\n",
      "Requirement already satisfied: astunparse~=1.6.3 in /Users/m1/opt/anaconda3/lib/python3.9/site-packages (from tensorflow==2.5.3) (1.6.3)\n",
      "Requirement already satisfied: grpcio~=1.34.0 in /Users/m1/opt/anaconda3/lib/python3.9/site-packages (from tensorflow==2.5.3) (1.34.1)\n",
      "Requirement already satisfied: google-pasta~=0.2 in /Users/m1/opt/anaconda3/lib/python3.9/site-packages (from tensorflow==2.5.3) (0.2.0)\n",
      "Requirement already satisfied: absl-py~=0.10 in /Users/m1/opt/anaconda3/lib/python3.9/site-packages (from tensorflow==2.5.3) (0.15.0)\n",
      "Requirement already satisfied: typing-extensions~=3.7.4 in /Users/m1/opt/anaconda3/lib/python3.9/site-packages (from tensorflow==2.5.3) (3.7.4.3)\n",
      "Requirement already satisfied: protobuf>=3.9.2 in /Users/m1/opt/anaconda3/lib/python3.9/site-packages (from tensorflow==2.5.3) (3.19.4)\n",
      "Requirement already satisfied: wrapt~=1.12.1 in /Users/m1/opt/anaconda3/lib/python3.9/site-packages (from tensorflow==2.5.3) (1.12.1)\n",
      "Requirement already satisfied: opencv-contrib-python in /Users/m1/opt/anaconda3/lib/python3.9/site-packages (from mediapipe) (4.5.5.62)\n",
      "Requirement already satisfied: attrs>=19.1.0 in /Users/m1/opt/anaconda3/lib/python3.9/site-packages (from mediapipe) (21.2.0)\n",
      "Requirement already satisfied: scikit-learn in /Users/m1/opt/anaconda3/lib/python3.9/site-packages (from sklearn) (0.24.2)\n",
      "Requirement already satisfied: pyparsing>=2.2.1 in /Users/m1/opt/anaconda3/lib/python3.9/site-packages (from matplotlib) (3.0.4)\n",
      "Requirement already satisfied: python-dateutil>=2.7 in /Users/m1/opt/anaconda3/lib/python3.9/site-packages (from matplotlib) (2.8.2)\n",
      "Requirement already satisfied: pillow>=6.2.0 in /Users/m1/opt/anaconda3/lib/python3.9/site-packages (from matplotlib) (8.4.0)\n",
      "Requirement already satisfied: kiwisolver>=1.0.1 in /Users/m1/opt/anaconda3/lib/python3.9/site-packages (from matplotlib) (1.3.1)\n",
      "Requirement already satisfied: cycler>=0.10 in /Users/m1/opt/anaconda3/lib/python3.9/site-packages (from matplotlib) (0.10.0)\n",
      "Requirement already satisfied: google-auth-oauthlib<0.5,>=0.4.1 in /Users/m1/opt/anaconda3/lib/python3.9/site-packages (from tensorboard~=2.5->tensorflow==2.5.3) (0.4.6)\n",
      "Requirement already satisfied: werkzeug>=0.11.15 in /Users/m1/opt/anaconda3/lib/python3.9/site-packages (from tensorboard~=2.5->tensorflow==2.5.3) (2.0.2)\n",
      "Requirement already satisfied: setuptools>=41.0.0 in /Users/m1/opt/anaconda3/lib/python3.9/site-packages (from tensorboard~=2.5->tensorflow==2.5.3) (58.0.4)\n",
      "Requirement already satisfied: tensorboard-plugin-wit>=1.6.0 in /Users/m1/opt/anaconda3/lib/python3.9/site-packages (from tensorboard~=2.5->tensorflow==2.5.3) (1.8.1)\n",
      "Requirement already satisfied: google-auth<3,>=1.6.3 in /Users/m1/opt/anaconda3/lib/python3.9/site-packages (from tensorboard~=2.5->tensorflow==2.5.3) (2.6.0)\n",
      "Requirement already satisfied: tensorboard-data-server<0.7.0,>=0.6.0 in /Users/m1/opt/anaconda3/lib/python3.9/site-packages (from tensorboard~=2.5->tensorflow==2.5.3) (0.6.1)\n",
      "Requirement already satisfied: markdown>=2.6.8 in /Users/m1/opt/anaconda3/lib/python3.9/site-packages (from tensorboard~=2.5->tensorflow==2.5.3) (3.3.6)\n",
      "Requirement already satisfied: requests<3,>=2.21.0 in /Users/m1/opt/anaconda3/lib/python3.9/site-packages (from tensorboard~=2.5->tensorflow==2.5.3) (2.26.0)\n",
      "Requirement already satisfied: pyasn1-modules>=0.2.1 in /Users/m1/opt/anaconda3/lib/python3.9/site-packages (from google-auth<3,>=1.6.3->tensorboard~=2.5->tensorflow==2.5.3) (0.2.8)\n",
      "Requirement already satisfied: rsa<5,>=3.1.4 in /Users/m1/opt/anaconda3/lib/python3.9/site-packages (from google-auth<3,>=1.6.3->tensorboard~=2.5->tensorflow==2.5.3) (4.8)\n",
      "Requirement already satisfied: cachetools<6.0,>=2.0.0 in /Users/m1/opt/anaconda3/lib/python3.9/site-packages (from google-auth<3,>=1.6.3->tensorboard~=2.5->tensorflow==2.5.3) (5.0.0)\n",
      "Requirement already satisfied: requests-oauthlib>=0.7.0 in /Users/m1/opt/anaconda3/lib/python3.9/site-packages (from google-auth-oauthlib<0.5,>=0.4.1->tensorboard~=2.5->tensorflow==2.5.3) (1.3.1)\n",
      "Requirement already satisfied: importlib-metadata>=4.4 in /Users/m1/opt/anaconda3/lib/python3.9/site-packages (from markdown>=2.6.8->tensorboard~=2.5->tensorflow==2.5.3) (4.8.1)\n",
      "Requirement already satisfied: zipp>=0.5 in /Users/m1/opt/anaconda3/lib/python3.9/site-packages (from importlib-metadata>=4.4->markdown>=2.6.8->tensorboard~=2.5->tensorflow==2.5.3) (3.6.0)\n",
      "Requirement already satisfied: pyasn1<0.5.0,>=0.4.6 in /Users/m1/opt/anaconda3/lib/python3.9/site-packages (from pyasn1-modules>=0.2.1->google-auth<3,>=1.6.3->tensorboard~=2.5->tensorflow==2.5.3) (0.4.8)\n",
      "Requirement already satisfied: certifi>=2017.4.17 in /Users/m1/opt/anaconda3/lib/python3.9/site-packages (from requests<3,>=2.21.0->tensorboard~=2.5->tensorflow==2.5.3) (2021.10.8)\n",
      "Requirement already satisfied: idna<4,>=2.5 in /Users/m1/opt/anaconda3/lib/python3.9/site-packages (from requests<3,>=2.21.0->tensorboard~=2.5->tensorflow==2.5.3) (3.2)\n",
      "Requirement already satisfied: charset-normalizer~=2.0.0 in /Users/m1/opt/anaconda3/lib/python3.9/site-packages (from requests<3,>=2.21.0->tensorboard~=2.5->tensorflow==2.5.3) (2.0.4)\n",
      "Requirement already satisfied: urllib3<1.27,>=1.21.1 in /Users/m1/opt/anaconda3/lib/python3.9/site-packages (from requests<3,>=2.21.0->tensorboard~=2.5->tensorflow==2.5.3) (1.26.7)\n",
      "Requirement already satisfied: oauthlib>=3.0.0 in /Users/m1/opt/anaconda3/lib/python3.9/site-packages (from requests-oauthlib>=0.7.0->google-auth-oauthlib<0.5,>=0.4.1->tensorboard~=2.5->tensorflow==2.5.3) (3.2.0)\n",
      "Requirement already satisfied: joblib>=0.11 in /Users/m1/opt/anaconda3/lib/python3.9/site-packages (from scikit-learn->sklearn) (1.1.0)\n",
      "Requirement already satisfied: scipy>=0.19.1 in /Users/m1/opt/anaconda3/lib/python3.9/site-packages (from scikit-learn->sklearn) (1.7.1)\n",
      "Requirement already satisfied: threadpoolctl>=2.0.0 in /Users/m1/opt/anaconda3/lib/python3.9/site-packages (from scikit-learn->sklearn) (2.2.0)\n"
     ]
    }
   ],
   "source": [
    "!pip install tensorflow==2.5.3 opencv-python mediapipe sklearn matplotlib"
   ]
  },
  {
   "cell_type": "code",
   "execution_count": 4,
   "id": "18ad80df",
   "metadata": {},
   "outputs": [],
   "source": [
    "import cv2\n",
    "import numpy as np\n",
    "import os\n",
    "from matplotlib import pyplot as plt\n",
    "import time\n",
    "import mediapipe as mp"
   ]
  },
  {
   "cell_type": "code",
   "execution_count": 9,
   "id": "4b8ae390",
   "metadata": {},
   "outputs": [],
   "source": [
    "cap = cv2.VideoCapture(0)\n",
    "while cap.isOpened():\n",
    "    \n",
    "    # Read feed\n",
    "    ret, frame = cap.read()\n",
    "    # Show to screen\n",
    "    cv2.imshow('openCV read', frame)\n",
    "    \n",
    "    # Break gracefully\n",
    "    if cv2.waitKey(10) & 0xFF == ord('q'):\n",
    "        break\n",
    "cap.release()\n",
    "cv2.destroyAllWindows()"
   ]
  },
  {
   "cell_type": "code",
   "execution_count": null,
   "id": "29763734",
   "metadata": {},
   "outputs": [],
   "source": []
  },
  {
   "cell_type": "code",
   "execution_count": null,
   "id": "74271093",
   "metadata": {},
   "outputs": [],
   "source": []
  }
 ],
 "metadata": {
  "kernelspec": {
   "display_name": "Python 3 (ipykernel)",
   "language": "python",
   "name": "python3"
  },
  "language_info": {
   "codemirror_mode": {
    "name": "ipython",
    "version": 3
   },
   "file_extension": ".py",
   "mimetype": "text/x-python",
   "name": "python",
   "nbconvert_exporter": "python",
   "pygments_lexer": "ipython3",
   "version": "3.9.7"
  }
 },
 "nbformat": 4,
 "nbformat_minor": 5
}
